{
 "cells": [
  {
   "cell_type": "code",
   "execution_count": 1,
   "id": "b00f31c2-1ea8-477e-8b00-2f139c28229e",
   "metadata": {},
   "outputs": [
    {
     "name": "stderr",
     "output_type": "stream",
     "text": [
      "\u001b[34m\u001b[1mwandb\u001b[0m: Currently logged in as: \u001b[33mivan-gorban\u001b[0m (\u001b[33mivan-gorban-individual\u001b[0m). Use \u001b[1m`wandb login --relogin`\u001b[0m to force relogin\n"
     ]
    },
    {
     "data": {
      "text/html": [
       "wandb version 0.18.7 is available!  To upgrade, please run:\n",
       " $ pip install wandb --upgrade"
      ],
      "text/plain": [
       "<IPython.core.display.HTML object>"
      ]
     },
     "metadata": {},
     "output_type": "display_data"
    },
    {
     "data": {
      "text/html": [
       "Tracking run with wandb version 0.16.0"
      ],
      "text/plain": [
       "<IPython.core.display.HTML object>"
      ]
     },
     "metadata": {},
     "output_type": "display_data"
    },
    {
     "data": {
      "text/html": [
       "Run data is saved locally in <code>/Users/ivgo/Library/CloudStorage/OneDrive-Personal/MLOps/Udacity/RentalPrices/build-ml-pipeline-for-short-term-rental-prices/src/eda/wandb/run-20241124_233219-ibncu1bd</code>"
      ],
      "text/plain": [
       "<IPython.core.display.HTML object>"
      ]
     },
     "metadata": {},
     "output_type": "display_data"
    },
    {
     "data": {
      "text/html": [
       "Syncing run <strong><a href='https://wandb.ai/ivan-gorban-individual/nyc_airbnb/runs/ibncu1bd' target=\"_blank\">grateful-water-4</a></strong> to <a href='https://wandb.ai/ivan-gorban-individual/nyc_airbnb' target=\"_blank\">Weights & Biases</a> (<a href='https://wandb.me/run' target=\"_blank\">docs</a>)<br/>"
      ],
      "text/plain": [
       "<IPython.core.display.HTML object>"
      ]
     },
     "metadata": {},
     "output_type": "display_data"
    },
    {
     "data": {
      "text/html": [
       " View project at <a href='https://wandb.ai/ivan-gorban-individual/nyc_airbnb' target=\"_blank\">https://wandb.ai/ivan-gorban-individual/nyc_airbnb</a>"
      ],
      "text/plain": [
       "<IPython.core.display.HTML object>"
      ]
     },
     "metadata": {},
     "output_type": "display_data"
    },
    {
     "data": {
      "text/html": [
       " View run at <a href='https://wandb.ai/ivan-gorban-individual/nyc_airbnb/runs/ibncu1bd' target=\"_blank\">https://wandb.ai/ivan-gorban-individual/nyc_airbnb/runs/ibncu1bd</a>"
      ],
      "text/plain": [
       "<IPython.core.display.HTML object>"
      ]
     },
     "metadata": {},
     "output_type": "display_data"
    }
   ],
   "source": [
    " import wandb\n",
    " import pandas as pd\n",
    "\n",
    " run = wandb.init(project=\"nyc_airbnb\", group=\"eda\", save_code=True)\n",
    " local_path = wandb.use_artifact(\"sample.csv:latest\").file()\n",
    " df = pd.read_csv(local_path)"
   ]
  },
  {
   "cell_type": "code",
   "execution_count": 3,
   "id": "0546f49a-9e7e-4880-a3ee-80714dfe1742",
   "metadata": {},
   "outputs": [],
   "source": [
    "import ydata_profiling as ydp\n",
    "\n",
    "profile = ydp.ProfileReport(df)\n"
   ]
  },
  {
   "cell_type": "code",
   "execution_count": 5,
   "id": "196c6959-d6bf-4a52-b40d-1867ba3ee8e3",
   "metadata": {},
   "outputs": [
    {
     "name": "stderr",
     "output_type": "stream",
     "text": [
      "Summarize dataset:  78%|█████████████████████████████████████████████████████████████████████████████████████████████████████████████████████████████████████████████████████████████████████████████████████████████▍                                                    | 18/23 [00:00<00:00, 36.86it/s, Calculate auto correlation]/opt/anaconda3/envs/mlflow-d2cf0cf56e3fba5dc59ddbff87f6d4458787f546/lib/python3.10/site-packages/ydata_profiling/model/correlations.py:66: UserWarning: There was an attempt to calculate the auto correlation, but this failed.\n",
      "To hide this warning, disable the calculation\n",
      "(using `df.profile_report(correlations={\"auto\": {\"calculate\": False}})`\n",
      "If this is problematic for your use case, please report this as an issue:\n",
      "https://github.com/ydataai/ydata-profiling/issues\n",
      "(include the error message: 'Function <code object pandas_auto_compute at 0x142de1c60, file \"/opt/anaconda3/envs/mlflow-d2cf0cf56e3fba5dc59ddbff87f6d4458787f546/lib/python3.10/site-packages/ydata_profiling/model/pandas/correlations_pandas.py\", line 167>')\n",
      "  warnings.warn(\n",
      "Summarize dataset: 100%|█████████████████████████████████████████████████████████████████████████████████████████████████████████████████████████████████████████████████████████████████████████████████████████████████████████████████████████████████████████████████████████████████| 126/126 [00:05<00:00, 23.67it/s, Completed]\n",
      "Generate report structure: 100%|████████████████████████████████████████████████████████████████████████████████████████████████████████████████████████████████████████████████████████████████████████████████████████████████████████████████████████████████████████████████████████████████████████| 1/1 [00:02<00:00,  2.96s/it]\n",
      "Render HTML: 100%|██████████████████████████████████████████████████████████████████████████████████████████████████████████████████████████████████████████████████████████████████████████████████████████████████████████████████████████████████████████████████████████████████████████████████████| 1/1 [00:01<00:00,  1.27s/it]\n",
      "Export report to file: 100%|███████████████████████████████████████████████████████████████████████████████████████████████████████████████████████████████████████████████████████████████████████████████████████████████████████████████████████████████████████████████████████████████████████████| 1/1 [00:00<00:00, 177.87it/s]\n"
     ]
    }
   ],
   "source": [
    "profile.to_file(\"your_report.html\")"
   ]
  },
  {
   "cell_type": "code",
   "execution_count": 6,
   "id": "de53c33e-af61-4c02-b6b6-8a44c4e98ba0",
   "metadata": {},
   "outputs": [],
   "source": [
    "min_price = 10\n",
    "max_price = 350\n",
    "idx = df['price'].between(min_price, max_price)\n",
    "df = df[idx].copy()\n",
    "# Convert last_review to datetime\n",
    "df['last_review'] = pd.to_datetime(df['last_review'])"
   ]
  },
  {
   "cell_type": "code",
   "execution_count": 7,
   "id": "83e1bf1b-59d0-49d6-9519-8a1f88d56f26",
   "metadata": {},
   "outputs": [
    {
     "data": {
      "text/plain": [
       "<Artifact run-ibncu1bd-your_report.html>"
      ]
     },
     "execution_count": 7,
     "metadata": {},
     "output_type": "execute_result"
    }
   ],
   "source": [
    "run.log_artifact('your_report.html')"
   ]
  },
  {
   "cell_type": "code",
   "execution_count": 8,
   "id": "689aad31-f2ec-4eea-befe-0ff309513fa3",
   "metadata": {},
   "outputs": [
    {
     "data": {
      "text/html": [
       " View run <strong style=\"color:#cdcd00\">grateful-water-4</strong> at: <a href='https://wandb.ai/ivan-gorban-individual/nyc_airbnb/runs/ibncu1bd' target=\"_blank\">https://wandb.ai/ivan-gorban-individual/nyc_airbnb/runs/ibncu1bd</a><br/> View job at <a href='https://wandb.ai/ivan-gorban-individual/nyc_airbnb/jobs/QXJ0aWZhY3RDb2xsZWN0aW9uOjQ5ODQ4MTcyNA==/version_details/v0' target=\"_blank\">https://wandb.ai/ivan-gorban-individual/nyc_airbnb/jobs/QXJ0aWZhY3RDb2xsZWN0aW9uOjQ5ODQ4MTcyNA==/version_details/v0</a><br/>Synced 7 W&B file(s), 0 media file(s), 10 artifact file(s) and 1 other file(s)"
      ],
      "text/plain": [
       "<IPython.core.display.HTML object>"
      ]
     },
     "metadata": {},
     "output_type": "display_data"
    },
    {
     "data": {
      "text/html": [
       "Find logs at: <code>./wandb/run-20241124_233219-ibncu1bd/logs</code>"
      ],
      "text/plain": [
       "<IPython.core.display.HTML object>"
      ]
     },
     "metadata": {},
     "output_type": "display_data"
    }
   ],
   "source": [
    "run.finish()"
   ]
  },
  {
   "cell_type": "code",
   "execution_count": null,
   "id": "e269a7a5-8cd5-4bde-87be-9bc13ec5a4b5",
   "metadata": {},
   "outputs": [],
   "source": []
  }
 ],
 "metadata": {
  "kernelspec": {
   "display_name": "Python 3 (ipykernel)",
   "language": "python",
   "name": "python3"
  },
  "language_info": {
   "codemirror_mode": {
    "name": "ipython",
    "version": 3
   },
   "file_extension": ".py",
   "mimetype": "text/x-python",
   "name": "python",
   "nbconvert_exporter": "python",
   "pygments_lexer": "ipython3",
   "version": "3.10.15"
  }
 },
 "nbformat": 4,
 "nbformat_minor": 5
}
